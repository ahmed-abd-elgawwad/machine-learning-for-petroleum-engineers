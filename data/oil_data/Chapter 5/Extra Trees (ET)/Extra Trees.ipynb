{
 "cells": [
  {
   "cell_type": "code",
   "execution_count": 1,
   "metadata": {},
   "outputs": [],
   "source": [
    "import numpy as np\n",
    "import pandas as pd\n",
    "import matplotlib.pyplot as plt\n",
    "import seaborn as sns\n",
    "%matplotlib inline"
   ]
  },
  {
   "cell_type": "code",
   "execution_count": 2,
   "metadata": {},
   "outputs": [],
   "source": [
    "df=pd.read_excel('Chapter5_TOC_Prediction_DataSet.xlsx')"
   ]
  },
  {
   "cell_type": "code",
   "execution_count": 3,
   "metadata": {},
   "outputs": [
    {
     "data": {
      "text/html": [
       "<div>\n",
       "<style scoped>\n",
       "    .dataframe tbody tr th:only-of-type {\n",
       "        vertical-align: middle;\n",
       "    }\n",
       "\n",
       "    .dataframe tbody tr th {\n",
       "        vertical-align: top;\n",
       "    }\n",
       "\n",
       "    .dataframe thead th {\n",
       "        text-align: right;\n",
       "    }\n",
       "</style>\n",
       "<table border=\"1\" class=\"dataframe\">\n",
       "  <thead>\n",
       "    <tr style=\"text-align: right;\">\n",
       "      <th></th>\n",
       "      <th>Thickness_ft</th>\n",
       "      <th>Bulk Density_gg per cc</th>\n",
       "      <th>Resistivity_ohmsm</th>\n",
       "      <th>Effective Porosity_Fraction</th>\n",
       "      <th>Clay Volume_ Fraction</th>\n",
       "      <th>Water Saturation_Fraction</th>\n",
       "      <th>TOC_Fraction</th>\n",
       "    </tr>\n",
       "  </thead>\n",
       "  <tbody>\n",
       "    <tr>\n",
       "      <th>0</th>\n",
       "      <td>219.713745</td>\n",
       "      <td>2.415151</td>\n",
       "      <td>3.151841</td>\n",
       "      <td>0.066973</td>\n",
       "      <td>0.228949</td>\n",
       "      <td>0.466486</td>\n",
       "      <td>0.057828</td>\n",
       "    </tr>\n",
       "    <tr>\n",
       "      <th>1</th>\n",
       "      <td>160.308606</td>\n",
       "      <td>2.430899</td>\n",
       "      <td>3.160330</td>\n",
       "      <td>0.034790</td>\n",
       "      <td>0.297078</td>\n",
       "      <td>0.544329</td>\n",
       "      <td>0.051316</td>\n",
       "    </tr>\n",
       "    <tr>\n",
       "      <th>2</th>\n",
       "      <td>149.944934</td>\n",
       "      <td>2.424665</td>\n",
       "      <td>4.087933</td>\n",
       "      <td>0.062167</td>\n",
       "      <td>0.311720</td>\n",
       "      <td>0.426713</td>\n",
       "      <td>0.055788</td>\n",
       "    </tr>\n",
       "    <tr>\n",
       "      <th>3</th>\n",
       "      <td>209.811890</td>\n",
       "      <td>2.394232</td>\n",
       "      <td>2.889251</td>\n",
       "      <td>0.087480</td>\n",
       "      <td>0.227958</td>\n",
       "      <td>0.479112</td>\n",
       "      <td>0.057745</td>\n",
       "    </tr>\n",
       "    <tr>\n",
       "      <th>4</th>\n",
       "      <td>167.492163</td>\n",
       "      <td>2.420244</td>\n",
       "      <td>2.881886</td>\n",
       "      <td>0.057664</td>\n",
       "      <td>0.302924</td>\n",
       "      <td>0.523564</td>\n",
       "      <td>0.052154</td>\n",
       "    </tr>\n",
       "  </tbody>\n",
       "</table>\n",
       "</div>"
      ],
      "text/plain": [
       "   Thickness_ft  Bulk Density_gg per cc  Resistivity_ohmsm  \\\n",
       "0    219.713745                2.415151           3.151841   \n",
       "1    160.308606                2.430899           3.160330   \n",
       "2    149.944934                2.424665           4.087933   \n",
       "3    209.811890                2.394232           2.889251   \n",
       "4    167.492163                2.420244           2.881886   \n",
       "\n",
       "   Effective Porosity_Fraction  Clay Volume_ Fraction  \\\n",
       "0                     0.066973               0.228949   \n",
       "1                     0.034790               0.297078   \n",
       "2                     0.062167               0.311720   \n",
       "3                     0.087480               0.227958   \n",
       "4                     0.057664               0.302924   \n",
       "\n",
       "   Water Saturation_Fraction  TOC_Fraction  \n",
       "0                   0.466486      0.057828  \n",
       "1                   0.544329      0.051316  \n",
       "2                   0.426713      0.055788  \n",
       "3                   0.479112      0.057745  \n",
       "4                   0.523564      0.052154  "
      ]
     },
     "execution_count": 3,
     "metadata": {},
     "output_type": "execute_result"
    }
   ],
   "source": [
    "df.head()"
   ]
  },
  {
   "cell_type": "code",
   "execution_count": 4,
   "metadata": {},
   "outputs": [
    {
     "data": {
      "text/html": [
       "<div>\n",
       "<style scoped>\n",
       "    .dataframe tbody tr th:only-of-type {\n",
       "        vertical-align: middle;\n",
       "    }\n",
       "\n",
       "    .dataframe tbody tr th {\n",
       "        vertical-align: top;\n",
       "    }\n",
       "\n",
       "    .dataframe thead th {\n",
       "        text-align: right;\n",
       "    }\n",
       "</style>\n",
       "<table border=\"1\" class=\"dataframe\">\n",
       "  <thead>\n",
       "    <tr style=\"text-align: right;\">\n",
       "      <th></th>\n",
       "      <th>Thickness_ft</th>\n",
       "      <th>Bulk Density_gg per cc</th>\n",
       "      <th>Resistivity_ohmsm</th>\n",
       "      <th>Effective Porosity_Fraction</th>\n",
       "      <th>Clay Volume_ Fraction</th>\n",
       "      <th>Water Saturation_Fraction</th>\n",
       "      <th>TOC_Fraction</th>\n",
       "    </tr>\n",
       "  </thead>\n",
       "  <tbody>\n",
       "    <tr>\n",
       "      <th>count</th>\n",
       "      <td>987.000000</td>\n",
       "      <td>987.000000</td>\n",
       "      <td>987.000000</td>\n",
       "      <td>987.000000</td>\n",
       "      <td>987.000000</td>\n",
       "      <td>987.000000</td>\n",
       "      <td>987.000000</td>\n",
       "    </tr>\n",
       "    <tr>\n",
       "      <th>mean</th>\n",
       "      <td>150.448933</td>\n",
       "      <td>2.423001</td>\n",
       "      <td>3.892432</td>\n",
       "      <td>0.061492</td>\n",
       "      <td>0.271257</td>\n",
       "      <td>0.435876</td>\n",
       "      <td>0.052630</td>\n",
       "    </tr>\n",
       "    <tr>\n",
       "      <th>std</th>\n",
       "      <td>52.452284</td>\n",
       "      <td>0.019059</td>\n",
       "      <td>1.342193</td>\n",
       "      <td>0.014805</td>\n",
       "      <td>0.045289</td>\n",
       "      <td>0.080023</td>\n",
       "      <td>0.005062</td>\n",
       "    </tr>\n",
       "    <tr>\n",
       "      <th>min</th>\n",
       "      <td>50.218753</td>\n",
       "      <td>2.386117</td>\n",
       "      <td>1.680451</td>\n",
       "      <td>0.017432</td>\n",
       "      <td>0.153118</td>\n",
       "      <td>0.230041</td>\n",
       "      <td>0.030830</td>\n",
       "    </tr>\n",
       "    <tr>\n",
       "      <th>25%</th>\n",
       "      <td>123.462354</td>\n",
       "      <td>2.409469</td>\n",
       "      <td>3.120852</td>\n",
       "      <td>0.051250</td>\n",
       "      <td>0.238607</td>\n",
       "      <td>0.372234</td>\n",
       "      <td>0.051026</td>\n",
       "    </tr>\n",
       "    <tr>\n",
       "      <th>50%</th>\n",
       "      <td>141.662622</td>\n",
       "      <td>2.422639</td>\n",
       "      <td>3.650354</td>\n",
       "      <td>0.061158</td>\n",
       "      <td>0.264785</td>\n",
       "      <td>0.442414</td>\n",
       "      <td>0.053662</td>\n",
       "    </tr>\n",
       "    <tr>\n",
       "      <th>75%</th>\n",
       "      <td>166.707110</td>\n",
       "      <td>2.433418</td>\n",
       "      <td>4.319585</td>\n",
       "      <td>0.072289</td>\n",
       "      <td>0.303776</td>\n",
       "      <td>0.490972</td>\n",
       "      <td>0.056100</td>\n",
       "    </tr>\n",
       "    <tr>\n",
       "      <th>max</th>\n",
       "      <td>475.992627</td>\n",
       "      <td>2.540608</td>\n",
       "      <td>15.970625</td>\n",
       "      <td>0.096054</td>\n",
       "      <td>0.413083</td>\n",
       "      <td>0.683304</td>\n",
       "      <td>0.060907</td>\n",
       "    </tr>\n",
       "  </tbody>\n",
       "</table>\n",
       "</div>"
      ],
      "text/plain": [
       "       Thickness_ft  Bulk Density_gg per cc  Resistivity_ohmsm  \\\n",
       "count    987.000000              987.000000         987.000000   \n",
       "mean     150.448933                2.423001           3.892432   \n",
       "std       52.452284                0.019059           1.342193   \n",
       "min       50.218753                2.386117           1.680451   \n",
       "25%      123.462354                2.409469           3.120852   \n",
       "50%      141.662622                2.422639           3.650354   \n",
       "75%      166.707110                2.433418           4.319585   \n",
       "max      475.992627                2.540608          15.970625   \n",
       "\n",
       "       Effective Porosity_Fraction  Clay Volume_ Fraction  \\\n",
       "count                   987.000000             987.000000   \n",
       "mean                      0.061492               0.271257   \n",
       "std                       0.014805               0.045289   \n",
       "min                       0.017432               0.153118   \n",
       "25%                       0.051250               0.238607   \n",
       "50%                       0.061158               0.264785   \n",
       "75%                       0.072289               0.303776   \n",
       "max                       0.096054               0.413083   \n",
       "\n",
       "       Water Saturation_Fraction  TOC_Fraction  \n",
       "count                 987.000000    987.000000  \n",
       "mean                    0.435876      0.052630  \n",
       "std                     0.080023      0.005062  \n",
       "min                     0.230041      0.030830  \n",
       "25%                     0.372234      0.051026  \n",
       "50%                     0.442414      0.053662  \n",
       "75%                     0.490972      0.056100  \n",
       "max                     0.683304      0.060907  "
      ]
     },
     "execution_count": 4,
     "metadata": {},
     "output_type": "execute_result"
    }
   ],
   "source": [
    "df.describe()"
   ]
  },
  {
   "cell_type": "code",
   "execution_count": 5,
   "metadata": {},
   "outputs": [
    {
     "data": {
      "text/plain": [
       "Index(['Thickness_ft', 'Bulk Density_gg per cc', 'Resistivity_ohmsm',\n",
       "       'Effective Porosity_Fraction', 'Clay Volume_ Fraction',\n",
       "       'Water Saturation_Fraction', 'TOC_Fraction'],\n",
       "      dtype='object')"
      ]
     },
     "execution_count": 5,
     "metadata": {},
     "output_type": "execute_result"
    }
   ],
   "source": [
    "df.columns"
   ]
  },
  {
   "cell_type": "code",
   "execution_count": 6,
   "metadata": {},
   "outputs": [],
   "source": [
    "y=df['TOC_Fraction']\n",
    "x=df.drop(['TOC_Fraction'], axis=1)"
   ]
  },
  {
   "cell_type": "code",
   "execution_count": 7,
   "metadata": {},
   "outputs": [],
   "source": [
    "from sklearn.model_selection import train_test_split"
   ]
  },
  {
   "cell_type": "code",
   "execution_count": 8,
   "metadata": {},
   "outputs": [],
   "source": [
    "seed= 1000\n",
    "np.random.seed(seed)\n",
    "X_train,X_test,y_train, y_test= train_test_split(x, y, test_size=0.30)"
   ]
  },
  {
   "cell_type": "code",
   "execution_count": 9,
   "metadata": {},
   "outputs": [],
   "source": [
    "from sklearn.ensemble import ExtraTreesRegressor"
   ]
  },
  {
   "cell_type": "code",
   "execution_count": 10,
   "metadata": {},
   "outputs": [],
   "source": [
    "np.random.seed(seed)\n",
    "et = ExtraTreesRegressor(n_estimators=5000, criterion='mse',max_depth=None, min_samples_split=4, min_samples_leaf=2,\n",
    "    max_features='auto', bootstrap=False, n_jobs=-1)"
   ]
  },
  {
   "cell_type": "code",
   "execution_count": 11,
   "metadata": {},
   "outputs": [
    {
     "data": {
      "text/plain": [
       "ExtraTreesRegressor(bootstrap=False, ccp_alpha=0.0, criterion='mse',\n",
       "                    max_depth=None, max_features='auto', max_leaf_nodes=None,\n",
       "                    max_samples=None, min_impurity_decrease=0.0,\n",
       "                    min_impurity_split=None, min_samples_leaf=2,\n",
       "                    min_samples_split=4, min_weight_fraction_leaf=0.0,\n",
       "                    n_estimators=5000, n_jobs=-1, oob_score=False,\n",
       "                    random_state=None, verbose=0, warm_start=False)"
      ]
     },
     "execution_count": 11,
     "metadata": {},
     "output_type": "execute_result"
    }
   ],
   "source": [
    "et.fit(X_train,y_train)"
   ]
  },
  {
   "cell_type": "code",
   "execution_count": 12,
   "metadata": {},
   "outputs": [],
   "source": [
    "y_pred_train=et.predict(X_train)\n",
    "y_pred_test=et.predict(X_test)"
   ]
  },
  {
   "cell_type": "code",
   "execution_count": 13,
   "metadata": {},
   "outputs": [
    {
     "name": "stdout",
     "output_type": "stream",
     "text": [
      "Training Data R^2= 0.9832 R= 0.9916\n"
     ]
    }
   ],
   "source": [
    "corr_train=np.corrcoef(y_train, y_pred_train) [0,1]\n",
    "\n",
    "print('Training Data R^2=',round(corr_train**2,4),'R=', round(corr_train,4))"
   ]
  },
  {
   "cell_type": "code",
   "execution_count": 14,
   "metadata": {},
   "outputs": [
    {
     "name": "stdout",
     "output_type": "stream",
     "text": [
      "Testing Data R^2= 0.8663 R= 0.9307\n"
     ]
    }
   ],
   "source": [
    "corr_test=np.corrcoef(y_test, y_pred_test) [0,1]\n",
    "\n",
    "print('Testing Data R^2=',round(corr_test**2,4),'R=', round(corr_test,4))"
   ]
  },
  {
   "cell_type": "code",
   "execution_count": 15,
   "metadata": {},
   "outputs": [
    {
     "data": {
      "text/plain": [
       "Text(0.5, 1.0, 'TOC Training Actual Vs. Prediction')"
      ]
     },
     "execution_count": 15,
     "metadata": {},
     "output_type": "execute_result"
    },
    {
     "data": {
      "image/png": "[encoded data removed]",
      "text/plain": [
       "<Figure size 720x576 with 1 Axes>"
      ]
     },
     "metadata": {
      "needs_background": "light"
     },
     "output_type": "display_data"
    }
   ],
   "source": [
    "plt.figure(figsize=(10,8))\n",
    "plt.plot(y_train, y_pred_train, 'b.')\n",
    "plt.xlabel('TOC Training Actual')\n",
    "plt.ylabel('TOC Training Prediction')\n",
    "plt.title('TOC Training Actual Vs. Prediction')"
   ]
  },
  {
   "cell_type": "code",
   "execution_count": 16,
   "metadata": {},
   "outputs": [
    {
     "data": {
      "text/plain": [
       "Text(0.5, 1.0, 'TOC Testing Actual Vs. Prediction')"
      ]
     },
     "execution_count": 16,
     "metadata": {},
     "output_type": "execute_result"
    },
    {
     "data": {
      "image/png": "[encoded data removed]",
      "text/plain": [
       "<Figure size 720x576 with 1 Axes>"
      ]
     },
     "metadata": {
      "needs_background": "light"
     },
     "output_type": "display_data"
    }
   ],
   "source": [
    "plt.figure(figsize=(10,8))\n",
    "plt.plot(y_test, y_pred_test, 'b.')\n",
    "plt.xlabel('TOC Testing Actual')\n",
    "plt.ylabel('TOC Testing Prediction')\n",
    "plt.title('TOC Testing Actual Vs. Prediction')"
   ]
  },
  {
   "cell_type": "code",
   "execution_count": 17,
   "metadata": {},
   "outputs": [
    {
     "data": {
      "text/html": [
       "<div>\n",
       "<style scoped>\n",
       "    .dataframe tbody tr th:only-of-type {\n",
       "        vertical-align: middle;\n",
       "    }\n",
       "\n",
       "    .dataframe tbody tr th {\n",
       "        vertical-align: top;\n",
       "    }\n",
       "\n",
       "    .dataframe thead th {\n",
       "        text-align: right;\n",
       "    }\n",
       "</style>\n",
       "<table border=\"1\" class=\"dataframe\">\n",
       "  <thead>\n",
       "    <tr style=\"text-align: right;\">\n",
       "      <th></th>\n",
       "      <th>Actual</th>\n",
       "      <th>Predicted</th>\n",
       "    </tr>\n",
       "  </thead>\n",
       "  <tbody>\n",
       "    <tr>\n",
       "      <th>834</th>\n",
       "      <td>0.051979</td>\n",
       "      <td>0.051964</td>\n",
       "    </tr>\n",
       "    <tr>\n",
       "      <th>604</th>\n",
       "      <td>0.053110</td>\n",
       "      <td>0.053851</td>\n",
       "    </tr>\n",
       "    <tr>\n",
       "      <th>747</th>\n",
       "      <td>0.057625</td>\n",
       "      <td>0.054805</td>\n",
       "    </tr>\n",
       "    <tr>\n",
       "      <th>908</th>\n",
       "      <td>0.057235</td>\n",
       "      <td>0.056245</td>\n",
       "    </tr>\n",
       "    <tr>\n",
       "      <th>545</th>\n",
       "      <td>0.054575</td>\n",
       "      <td>0.053831</td>\n",
       "    </tr>\n",
       "    <tr>\n",
       "      <th>...</th>\n",
       "      <td>...</td>\n",
       "      <td>...</td>\n",
       "    </tr>\n",
       "    <tr>\n",
       "      <th>809</th>\n",
       "      <td>0.056807</td>\n",
       "      <td>0.054295</td>\n",
       "    </tr>\n",
       "    <tr>\n",
       "      <th>166</th>\n",
       "      <td>0.054815</td>\n",
       "      <td>0.054232</td>\n",
       "    </tr>\n",
       "    <tr>\n",
       "      <th>172</th>\n",
       "      <td>0.058651</td>\n",
       "      <td>0.058608</td>\n",
       "    </tr>\n",
       "    <tr>\n",
       "      <th>263</th>\n",
       "      <td>0.058120</td>\n",
       "      <td>0.057312</td>\n",
       "    </tr>\n",
       "    <tr>\n",
       "      <th>427</th>\n",
       "      <td>0.051019</td>\n",
       "      <td>0.050779</td>\n",
       "    </tr>\n",
       "  </tbody>\n",
       "</table>\n",
       "<p>297 rows × 2 columns</p>\n",
       "</div>"
      ],
      "text/plain": [
       "       Actual  Predicted\n",
       "834  0.051979   0.051964\n",
       "604  0.053110   0.053851\n",
       "747  0.057625   0.054805\n",
       "908  0.057235   0.056245\n",
       "545  0.054575   0.053831\n",
       "..        ...        ...\n",
       "809  0.056807   0.054295\n",
       "166  0.054815   0.054232\n",
       "172  0.058651   0.058608\n",
       "263  0.058120   0.057312\n",
       "427  0.051019   0.050779\n",
       "\n",
       "[297 rows x 2 columns]"
      ]
     },
     "execution_count": 17,
     "metadata": {},
     "output_type": "execute_result"
    }
   ],
   "source": [
    "TOC_Actual_Prediction=pd.DataFrame({'Actual':y_test, 'Predicted':y_pred_test})\n",
    "TOC_Actual_Prediction"
   ]
  },
  {
   "cell_type": "code",
   "execution_count": 18,
   "metadata": {},
   "outputs": [
    {
     "name": "stdout",
     "output_type": "stream",
     "text": [
      "MAE: 0.00104\n",
      "MSE: 0.0\n",
      "RMSE: 0.00176\n"
     ]
    }
   ],
   "source": [
    "from sklearn import metrics\n",
    "print('MAE:', round(metrics.mean_absolute_error(y_test, y_pred_test),5))\n",
    "print('MSE:', round(metrics.mean_squared_error(y_test, y_pred_test),5))\n",
    "print('RMSE:', round(np.sqrt(metrics.mean_squared_error(y_test, y_pred_test)),5))"
   ]
  },
  {
   "cell_type": "code",
   "execution_count": 19,
   "metadata": {},
   "outputs": [
    {
     "data": {
      "text/plain": [
       "Text(0.5, 1.0, 'Feature Importance Ranking')"
      ]
     },
     "execution_count": 19,
     "metadata": {},
     "output_type": "execute_result"
    },
    {
     "data": {
      "image/png": "[encoded data removed]",
      "text/plain": [
       "<Figure size 720x576 with 1 Axes>"
      ]
     },
     "metadata": {
      "needs_background": "light"
     },
     "output_type": "display_data"
    }
   ],
   "source": [
    "feature_names = df.columns[:-1]\n",
    "plt.figure(figsize=(10,8))\n",
    "feature_imp = pd.Series(et.feature_importances_,index=feature_names).sort_values(ascending=False)\n",
    "\n",
    "sns.barplot(x=feature_imp, y=feature_imp.index)\n",
    "plt.xlabel('Feature Importance Score Using Extra Trees')\n",
    "plt.ylabel('Features')\n",
    "plt.title(\"Feature Importance Ranking\")"
   ]
  },
  {
   "cell_type": "code",
   "execution_count": 20,
   "metadata": {},
   "outputs": [],
   "source": [
    "from sklearn.model_selection import cross_val_score"
   ]
  },
  {
   "cell_type": "code",
   "execution_count": 21,
   "metadata": {},
   "outputs": [],
   "source": [
    "np.random.seed(seed)\n",
    "scores_R2 = cross_val_score(et, x, y,cv=5,scoring='r2')"
   ]
  },
  {
   "cell_type": "code",
   "execution_count": 22,
   "metadata": {},
   "outputs": [
    {
     "name": "stdout",
     "output_type": "stream",
     "text": [
      " R2_Cross-validation scores: [0.78910151 0.82774583 0.78219988 0.84719793 0.80344111]\n"
     ]
    }
   ],
   "source": [
    "print(\" R2_Cross-validation scores: {}\". format( scores_R2))"
   ]
  },
  {
   "cell_type": "code",
   "execution_count": 23,
   "metadata": {},
   "outputs": [
    {
     "name": "stdout",
     "output_type": "stream",
     "text": [
      " Average R2_Cross-validation scores: 0.8099372535306053\n"
     ]
    }
   ],
   "source": [
    "print(\" Average R2_Cross-validation scores: {}\". format( scores_R2.mean()))"
   ]
  },
  {
   "cell_type": "code",
   "execution_count": null,
   "metadata": {},
   "outputs": [],
   "source": []
  }
 ],
 "metadata": {
  "kernelspec": {
   "display_name": "Python 3",
   "language": "python",
   "name": "python3"
  },
  "language_info": {
   "codemirror_mode": {
    "name": "ipython",
    "version": 3
   },
   "file_extension": ".py",
   "mimetype": "text/x-python",
   "name": "python",
   "nbconvert_exporter": "python",
   "pygments_lexer": "ipython3",
   "version": "3.7.6"
  }
 },
 "nbformat": 4,
 "nbformat_minor": 4
}
