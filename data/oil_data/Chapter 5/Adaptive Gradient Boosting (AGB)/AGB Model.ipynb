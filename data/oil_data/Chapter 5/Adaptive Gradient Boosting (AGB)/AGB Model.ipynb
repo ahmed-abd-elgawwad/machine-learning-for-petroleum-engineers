{
 "cells": [
  {
   "cell_type": "code",
   "execution_count": 1,
   "metadata": {},
   "outputs": [],
   "source": [
    "import numpy as np\n",
    "import pandas as pd\n",
    "import matplotlib.pyplot as plt\n",
    "import seaborn as sns\n",
    "%matplotlib inline\n",
    "sns.set_style(\"darkgrid\")"
   ]
  },
  {
   "cell_type": "code",
   "execution_count": 2,
   "metadata": {},
   "outputs": [],
   "source": [
    "df=pd.read_excel('Chapter5_NPV_DataSet.xlsx')"
   ]
  },
  {
   "cell_type": "code",
   "execution_count": 3,
   "metadata": {},
   "outputs": [
    {
     "data": {
      "text/html": [
       "<div>\n",
       "<style scoped>\n",
       "    .dataframe tbody tr th:only-of-type {\n",
       "        vertical-align: middle;\n",
       "    }\n",
       "\n",
       "    .dataframe tbody tr th {\n",
       "        vertical-align: top;\n",
       "    }\n",
       "\n",
       "    .dataframe thead th {\n",
       "        text-align: right;\n",
       "    }\n",
       "</style>\n",
       "<table border=\"1\" class=\"dataframe\">\n",
       "  <thead>\n",
       "    <tr style=\"text-align: right;\">\n",
       "      <th></th>\n",
       "      <th>Lateral_length</th>\n",
       "      <th>Stage_length</th>\n",
       "      <th>Sand_to_water_ratio</th>\n",
       "      <th>Sand_per_ft</th>\n",
       "      <th>Water_per_ft</th>\n",
       "      <th>EUR_BCF</th>\n",
       "      <th>NPV_at_3.0_MMBTU_Gas Pricing</th>\n",
       "    </tr>\n",
       "  </thead>\n",
       "  <tbody>\n",
       "    <tr>\n",
       "      <th>count</th>\n",
       "      <td>258.000000</td>\n",
       "      <td>258.000000</td>\n",
       "      <td>258.000000</td>\n",
       "      <td>258.000000</td>\n",
       "      <td>258.000000</td>\n",
       "      <td>258.000000</td>\n",
       "      <td>258.000000</td>\n",
       "    </tr>\n",
       "    <tr>\n",
       "      <th>mean</th>\n",
       "      <td>8911.663566</td>\n",
       "      <td>223.834920</td>\n",
       "      <td>1.268741</td>\n",
       "      <td>2066.112041</td>\n",
       "      <td>39.069433</td>\n",
       "      <td>9.795406</td>\n",
       "      <td>-0.634117</td>\n",
       "    </tr>\n",
       "    <tr>\n",
       "      <th>std</th>\n",
       "      <td>2995.195633</td>\n",
       "      <td>52.900698</td>\n",
       "      <td>0.338050</td>\n",
       "      <td>903.288312</td>\n",
       "      <td>15.740073</td>\n",
       "      <td>6.193401</td>\n",
       "      <td>3.631055</td>\n",
       "    </tr>\n",
       "    <tr>\n",
       "      <th>min</th>\n",
       "      <td>2439.500000</td>\n",
       "      <td>85.600003</td>\n",
       "      <td>0.119433</td>\n",
       "      <td>310.728368</td>\n",
       "      <td>8.118385</td>\n",
       "      <td>0.173786</td>\n",
       "      <td>-8.092757</td>\n",
       "    </tr>\n",
       "    <tr>\n",
       "      <th>25%</th>\n",
       "      <td>6433.225000</td>\n",
       "      <td>178.830607</td>\n",
       "      <td>1.108849</td>\n",
       "      <td>1416.164360</td>\n",
       "      <td>26.593500</td>\n",
       "      <td>5.212174</td>\n",
       "      <td>-3.107133</td>\n",
       "    </tr>\n",
       "    <tr>\n",
       "      <th>50%</th>\n",
       "      <td>8089.450000</td>\n",
       "      <td>204.708946</td>\n",
       "      <td>1.249180</td>\n",
       "      <td>2027.515360</td>\n",
       "      <td>40.575506</td>\n",
       "      <td>8.570267</td>\n",
       "      <td>-1.587870</td>\n",
       "    </tr>\n",
       "    <tr>\n",
       "      <th>75%</th>\n",
       "      <td>11582.100000</td>\n",
       "      <td>263.308520</td>\n",
       "      <td>1.437271</td>\n",
       "      <td>2777.796760</td>\n",
       "      <td>51.229328</td>\n",
       "      <td>12.465853</td>\n",
       "      <td>1.061966</td>\n",
       "    </tr>\n",
       "    <tr>\n",
       "      <th>max</th>\n",
       "      <td>16918.400000</td>\n",
       "      <td>386.754534</td>\n",
       "      <td>2.442476</td>\n",
       "      <td>4964.854720</td>\n",
       "      <td>75.340213</td>\n",
       "      <td>37.375668</td>\n",
       "      <td>13.828945</td>\n",
       "    </tr>\n",
       "  </tbody>\n",
       "</table>\n",
       "</div>"
      ],
      "text/plain": [
       "       Lateral_length  Stage_length  Sand_to_water_ratio  Sand_per_ft  \\\n",
       "count      258.000000    258.000000           258.000000   258.000000   \n",
       "mean      8911.663566    223.834920             1.268741  2066.112041   \n",
       "std       2995.195633     52.900698             0.338050   903.288312   \n",
       "min       2439.500000     85.600003             0.119433   310.728368   \n",
       "25%       6433.225000    178.830607             1.108849  1416.164360   \n",
       "50%       8089.450000    204.708946             1.249180  2027.515360   \n",
       "75%      11582.100000    263.308520             1.437271  2777.796760   \n",
       "max      16918.400000    386.754534             2.442476  4964.854720   \n",
       "\n",
       "       Water_per_ft     EUR_BCF  NPV_at_3.0_MMBTU_Gas Pricing  \n",
       "count    258.000000  258.000000                    258.000000  \n",
       "mean      39.069433    9.795406                     -0.634117  \n",
       "std       15.740073    6.193401                      3.631055  \n",
       "min        8.118385    0.173786                     -8.092757  \n",
       "25%       26.593500    5.212174                     -3.107133  \n",
       "50%       40.575506    8.570267                     -1.587870  \n",
       "75%       51.229328   12.465853                      1.061966  \n",
       "max       75.340213   37.375668                     13.828945  "
      ]
     },
     "execution_count": 3,
     "metadata": {},
     "output_type": "execute_result"
    }
   ],
   "source": [
    "df.describe()"
   ]
  },
  {
   "cell_type": "code",
   "execution_count": 4,
   "metadata": {},
   "outputs": [
    {
     "data": {
      "text/plain": [
       "Index(['Lateral_length', 'Stage_length', 'Sand_to_water_ratio', 'Sand_per_ft',\n",
       "       'Water_per_ft', 'EUR_BCF', 'NPV_at_3.0_MMBTU_Gas Pricing'],\n",
       "      dtype='object')"
      ]
     },
     "execution_count": 4,
     "metadata": {},
     "output_type": "execute_result"
    }
   ],
   "source": [
    "df.columns"
   ]
  },
  {
   "cell_type": "code",
   "execution_count": 5,
   "metadata": {},
   "outputs": [],
   "source": [
    "x=df.drop(['NPV_at_3.0_MMBTU_Gas Pricing'], axis=1)\n",
    "y=df['NPV_at_3.0_MMBTU_Gas Pricing']"
   ]
  },
  {
   "cell_type": "code",
   "execution_count": 6,
   "metadata": {},
   "outputs": [],
   "source": [
    "from sklearn.model_selection import train_test_split"
   ]
  },
  {
   "cell_type": "code",
   "execution_count": 7,
   "metadata": {},
   "outputs": [],
   "source": [
    "seed= 1000\n",
    "np.random.seed(seed)\n",
    "X_train, X_test, y_train, y_test = train_test_split(x, y, test_size=0.3)"
   ]
  },
  {
   "cell_type": "code",
   "execution_count": 8,
   "metadata": {},
   "outputs": [],
   "source": [
    "from sklearn.ensemble import AdaBoostRegressor\n",
    "from sklearn.tree import DecisionTreeRegressor"
   ]
  },
  {
   "cell_type": "code",
   "execution_count": 9,
   "metadata": {},
   "outputs": [],
   "source": [
    "np.random.seed(seed)\n",
    "agb=AdaBoostRegressor(base_estimator=DecisionTreeRegressor(max_depth=None,min_samples_split=4,\n",
    "    min_samples_leaf=2), n_estimators=200, learning_rate=0.1,loss='linear')"
   ]
  },
  {
   "cell_type": "code",
   "execution_count": 10,
   "metadata": {},
   "outputs": [
    {
     "data": {
      "text/plain": [
       "AdaBoostRegressor(base_estimator=DecisionTreeRegressor(ccp_alpha=0.0,\n",
       "                                                       criterion='mse',\n",
       "                                                       max_depth=None,\n",
       "                                                       max_features=None,\n",
       "                                                       max_leaf_nodes=None,\n",
       "                                                       min_impurity_decrease=0.0,\n",
       "                                                       min_impurity_split=None,\n",
       "                                                       min_samples_leaf=2,\n",
       "                                                       min_samples_split=4,\n",
       "                                                       min_weight_fraction_leaf=0.0,\n",
       "                                                       presort='deprecated',\n",
       "                                                       random_state=None,\n",
       "                                                       splitter='best'),\n",
       "                  learning_rate=0.1, loss='linear', n_estimators=200,\n",
       "                  random_state=None)"
      ]
     },
     "execution_count": 10,
     "metadata": {},
     "output_type": "execute_result"
    }
   ],
   "source": [
    "agb.fit(X_train,y_train)"
   ]
  },
  {
   "cell_type": "code",
   "execution_count": 11,
   "metadata": {},
   "outputs": [],
   "source": [
    "y_pred_train=agb.predict(X_train)\n",
    "y_pred_test=agb.predict(X_test)"
   ]
  },
  {
   "cell_type": "code",
   "execution_count": 12,
   "metadata": {},
   "outputs": [
    {
     "name": "stdout",
     "output_type": "stream",
     "text": [
      "Training Data R^2= 0.9984 R= 0.9992\n"
     ]
    }
   ],
   "source": [
    "corr_train=np.corrcoef(y_train, y_pred_train) [0,1]\n",
    "\n",
    "print('Training Data R^2=',round(corr_train**2,4),'R=', round(corr_train,4))"
   ]
  },
  {
   "cell_type": "code",
   "execution_count": 13,
   "metadata": {},
   "outputs": [
    {
     "name": "stdout",
     "output_type": "stream",
     "text": [
      "Testing Data R^2= 0.8917 R= 0.9443\n"
     ]
    }
   ],
   "source": [
    "corr_test=np.corrcoef(y_test, y_pred_test) [0,1]\n",
    "\n",
    "print('Testing Data R^2=',round(corr_test**2,4),'R=', round(corr_test,4))"
   ]
  },
  {
   "cell_type": "code",
   "execution_count": 14,
   "metadata": {},
   "outputs": [
    {
     "data": {
      "text/plain": [
       "Text(0.5, 1.0, 'NPV Training Actual Vs. Prediction')"
      ]
     },
     "execution_count": 14,
     "metadata": {},
     "output_type": "execute_result"
    },
    {
     "data": {
      "image/png": "[encoded data removed]",
      "text/plain": [
       "<Figure size 720x576 with 1 Axes>"
      ]
     },
     "metadata": {},
     "output_type": "display_data"
    }
   ],
   "source": [
    "plt.figure(figsize=(10,8))\n",
    "plt.plot(y_train, y_pred_train, 'y.')\n",
    "plt.xlabel('NPV Training Actual')\n",
    "plt.ylabel('NPV Training Prediction')\n",
    "plt.title('NPV Training Actual Vs. Prediction')"
   ]
  },
  {
   "cell_type": "code",
   "execution_count": 15,
   "metadata": {},
   "outputs": [
    {
     "data": {
      "text/plain": [
       "Text(0.5, 1.0, 'NPV Testing Actual Vs. Prediction')"
      ]
     },
     "execution_count": 15,
     "metadata": {},
     "output_type": "execute_result"
    },
    {
     "data": {
      "image/png": "[encoded data removed]",
      "text/plain": [
       "<Figure size 720x576 with 1 Axes>"
      ]
     },
     "metadata": {},
     "output_type": "display_data"
    }
   ],
   "source": [
    "plt.figure(figsize=(10,8))\n",
    "plt.plot(y_test, y_pred_test, 'y.')\n",
    "plt.xlabel('NPV Testing Actual')\n",
    "plt.ylabel('NPV Testing Prediction')\n",
    "plt.title('NPV Testing Actual Vs. Prediction')"
   ]
  },
  {
   "cell_type": "code",
   "execution_count": 16,
   "metadata": {},
   "outputs": [
    {
     "name": "stdout",
     "output_type": "stream",
     "text": [
      "MAE: 0.77298\n",
      "MSE: 1.33434\n",
      "RMSE: 1.15514\n"
     ]
    }
   ],
   "source": [
    "from sklearn import metrics\n",
    "print('MAE:', round(metrics.mean_absolute_error(y_test, y_pred_test),5))\n",
    "print('MSE:', round(metrics.mean_squared_error(y_test, y_pred_test),5))\n",
    "print('RMSE:', round(np.sqrt(metrics.mean_squared_error(y_test, y_pred_test)),5))"
   ]
  },
  {
   "cell_type": "code",
   "execution_count": 17,
   "metadata": {},
   "outputs": [
    {
     "data": {
      "text/plain": [
       "Text(0.5, 1.0, 'Feature Importance Ranking')"
      ]
     },
     "execution_count": 17,
     "metadata": {},
     "output_type": "execute_result"
    },
    {
     "data": {
      "image/png": "[encoded data removed]",
      "text/plain": [
       "<Figure size 720x576 with 1 Axes>"
      ]
     },
     "metadata": {},
     "output_type": "display_data"
    }
   ],
   "source": [
    "feature_names = df.columns[:-1]\n",
    "plt.figure(figsize=(10,8))\n",
    "feature_imp = pd.Series(agb.feature_importances_,index=feature_names).sort_values(ascending=False)\n",
    "\n",
    "sns.barplot(x=feature_imp, y=feature_imp.index)\n",
    "plt.xlabel('Feature Importance Score Using Gradient Boosting')\n",
    "plt.ylabel('Features')\n",
    "plt.title(\"Feature Importance Ranking\")"
   ]
  },
  {
   "cell_type": "code",
   "execution_count": 18,
   "metadata": {},
   "outputs": [],
   "source": [
    "from sklearn.model_selection import cross_val_score"
   ]
  },
  {
   "cell_type": "code",
   "execution_count": 19,
   "metadata": {},
   "outputs": [],
   "source": [
    "np.random.seed(seed)\n",
    "scores_R2 = cross_val_score(agb, x, y,cv=10,scoring='r2')"
   ]
  },
  {
   "cell_type": "code",
   "execution_count": 20,
   "metadata": {},
   "outputs": [
    {
     "name": "stdout",
     "output_type": "stream",
     "text": [
      " R2_Cross-validation scores: [0.92186019 0.88601973 0.75506971 0.94139885 0.92490025 0.88551602\n",
      " 0.50663126 0.95476168 0.91861629 0.80053136]\n"
     ]
    }
   ],
   "source": [
    "print(\" R2_Cross-validation scores: {}\". format( scores_R2))"
   ]
  },
  {
   "cell_type": "code",
   "execution_count": 21,
   "metadata": {},
   "outputs": [
    {
     "name": "stdout",
     "output_type": "stream",
     "text": [
      " Average R2_Cross-validation scores: 0.8495305328469369\n"
     ]
    }
   ],
   "source": [
    "print(\" Average R2_Cross-validation scores: {}\". format( scores_R2.mean()))"
   ]
  },
  {
   "cell_type": "code",
   "execution_count": 22,
   "metadata": {},
   "outputs": [
    {
     "data": {
      "image/png": "[encoded data removed]",
      "text/plain": [
       "<Figure size 864x432 with 2 Axes>"
      ]
     },
     "metadata": {},
     "output_type": "display_data"
    }
   ],
   "source": [
    "from sklearn.inspection import permutation_importance\n",
    "feature_importance = agb.feature_importances_\n",
    "sorted_features = np.argsort(feature_importance)\n",
    "pos = np.arange(sorted_features.shape[0]) + .5\n",
    "fig = plt.figure(figsize=(12, 6))\n",
    "plt.subplot(1, 2, 1)\n",
    "plt.barh(pos, feature_importance[sorted_features], align='center')\n",
    "plt.yticks(pos, np.array(df.columns)[sorted_features])\n",
    "plt.title('Feature Importance')\n",
    "\n",
    "result = permutation_importance(agb, X_test, y_test, n_repeats=10,random_state=seed)\n",
    "sorted_idx = result.importances_mean.argsort()\n",
    "plt.subplot(1, 2, 2)\n",
    "plt.boxplot(result.importances[sorted_idx].T, vert=False, labels=np.array(df.columns)[sorted_idx])\n",
    "plt.title(\"Permutation Importance (test set)\")\n",
    "fig.tight_layout()"
   ]
  },
  {
   "cell_type": "code",
   "execution_count": null,
   "metadata": {},
   "outputs": [],
   "source": []
  }
 ],
 "metadata": {
  "kernelspec": {
   "display_name": "Python 3",
   "language": "python",
   "name": "python3"
  },
  "language_info": {
   "codemirror_mode": {
    "name": "ipython",
    "version": 3
   },
   "file_extension": ".py",
   "mimetype": "text/x-python",
   "name": "python",
   "nbconvert_exporter": "python",
   "pygments_lexer": "ipython3",
   "version": "3.7.6"
  }
 },
 "nbformat": 4,
 "nbformat_minor": 4
}
