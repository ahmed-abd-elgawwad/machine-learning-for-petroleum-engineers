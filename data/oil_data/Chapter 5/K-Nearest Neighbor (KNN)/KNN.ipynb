{
 "cells": [
  {
   "cell_type": "code",
   "execution_count": 1,
   "metadata": {},
   "outputs": [],
   "source": [
    "import numpy as np\n",
    "import pandas as pd\n",
    "import matplotlib.pyplot as plt\n",
    "import seaborn as sns\n",
    "%matplotlib inline"
   ]
  },
  {
   "cell_type": "code",
   "execution_count": 2,
   "metadata": {},
   "outputs": [],
   "source": [
    "df=pd.read_excel('Chapter5_HR_DataSet.xlsx')"
   ]
  },
  {
   "cell_type": "code",
   "execution_count": 3,
   "metadata": {},
   "outputs": [
    {
     "data": {
      "text/html": [
       "<div>\n",
       "<style scoped>\n",
       "    .dataframe tbody tr th:only-of-type {\n",
       "        vertical-align: middle;\n",
       "    }\n",
       "\n",
       "    .dataframe tbody tr th {\n",
       "        vertical-align: top;\n",
       "    }\n",
       "\n",
       "    .dataframe thead th {\n",
       "        text-align: right;\n",
       "    }\n",
       "</style>\n",
       "<table border=\"1\" class=\"dataframe\">\n",
       "  <thead>\n",
       "    <tr style=\"text-align: right;\">\n",
       "      <th></th>\n",
       "      <th>Late show up percentage</th>\n",
       "      <th>Project initiative percentage</th>\n",
       "      <th>Percentage of project delivery on time</th>\n",
       "      <th>Percentage of emails exchanged</th>\n",
       "      <th>Percentage of responsiveness</th>\n",
       "      <th>Percentage of professional email response</th>\n",
       "      <th>Percentage of sharing ideas</th>\n",
       "      <th>Percentage of helping colleagues</th>\n",
       "      <th>Percentage of entrepreneurial posts on LinkedIn</th>\n",
       "      <th>Percentage of Facebook comments</th>\n",
       "      <th>Quitting</th>\n",
       "    </tr>\n",
       "  </thead>\n",
       "  <tbody>\n",
       "    <tr>\n",
       "      <th>count</th>\n",
       "      <td>1000.000000</td>\n",
       "      <td>1000.000000</td>\n",
       "      <td>1000.000000</td>\n",
       "      <td>1000.000000</td>\n",
       "      <td>1000.000000</td>\n",
       "      <td>1000.000000</td>\n",
       "      <td>1000.000000</td>\n",
       "      <td>1000.000000</td>\n",
       "      <td>1000.000000</td>\n",
       "      <td>1000.000000</td>\n",
       "      <td>1000.00000</td>\n",
       "    </tr>\n",
       "    <tr>\n",
       "      <th>mean</th>\n",
       "      <td>0.501025</td>\n",
       "      <td>0.483284</td>\n",
       "      <td>0.427376</td>\n",
       "      <td>0.400711</td>\n",
       "      <td>0.537204</td>\n",
       "      <td>0.484969</td>\n",
       "      <td>0.471185</td>\n",
       "      <td>0.519861</td>\n",
       "      <td>0.521589</td>\n",
       "      <td>0.576462</td>\n",
       "      <td>0.50000</td>\n",
       "    </tr>\n",
       "    <tr>\n",
       "      <th>std</th>\n",
       "      <td>0.187179</td>\n",
       "      <td>0.184640</td>\n",
       "      <td>0.187881</td>\n",
       "      <td>0.144444</td>\n",
       "      <td>0.182367</td>\n",
       "      <td>0.182355</td>\n",
       "      <td>0.179900</td>\n",
       "      <td>0.194477</td>\n",
       "      <td>0.193181</td>\n",
       "      <td>0.162826</td>\n",
       "      <td>0.50025</td>\n",
       "    </tr>\n",
       "    <tr>\n",
       "      <th>min</th>\n",
       "      <td>0.000000</td>\n",
       "      <td>0.000000</td>\n",
       "      <td>0.000000</td>\n",
       "      <td>0.000000</td>\n",
       "      <td>0.000000</td>\n",
       "      <td>0.000000</td>\n",
       "      <td>0.000000</td>\n",
       "      <td>0.000000</td>\n",
       "      <td>0.000000</td>\n",
       "      <td>0.000000</td>\n",
       "      <td>0.00000</td>\n",
       "    </tr>\n",
       "    <tr>\n",
       "      <th>25%</th>\n",
       "      <td>0.367040</td>\n",
       "      <td>0.359586</td>\n",
       "      <td>0.286459</td>\n",
       "      <td>0.295613</td>\n",
       "      <td>0.416221</td>\n",
       "      <td>0.355052</td>\n",
       "      <td>0.344950</td>\n",
       "      <td>0.381461</td>\n",
       "      <td>0.374331</td>\n",
       "      <td>0.464761</td>\n",
       "      <td>0.00000</td>\n",
       "    </tr>\n",
       "    <tr>\n",
       "      <th>50%</th>\n",
       "      <td>0.495075</td>\n",
       "      <td>0.486289</td>\n",
       "      <td>0.413932</td>\n",
       "      <td>0.397399</td>\n",
       "      <td>0.539818</td>\n",
       "      <td>0.483522</td>\n",
       "      <td>0.458429</td>\n",
       "      <td>0.515514</td>\n",
       "      <td>0.526394</td>\n",
       "      <td>0.586543</td>\n",
       "      <td>0.50000</td>\n",
       "    </tr>\n",
       "    <tr>\n",
       "      <th>75%</th>\n",
       "      <td>0.639074</td>\n",
       "      <td>0.622330</td>\n",
       "      <td>0.552530</td>\n",
       "      <td>0.496453</td>\n",
       "      <td>0.661523</td>\n",
       "      <td>0.612790</td>\n",
       "      <td>0.592071</td>\n",
       "      <td>0.661990</td>\n",
       "      <td>0.669513</td>\n",
       "      <td>0.689762</td>\n",
       "      <td>1.00000</td>\n",
       "    </tr>\n",
       "    <tr>\n",
       "      <th>max</th>\n",
       "      <td>1.000000</td>\n",
       "      <td>1.000000</td>\n",
       "      <td>1.000000</td>\n",
       "      <td>1.000000</td>\n",
       "      <td>1.000000</td>\n",
       "      <td>1.000000</td>\n",
       "      <td>1.000000</td>\n",
       "      <td>1.000000</td>\n",
       "      <td>1.000000</td>\n",
       "      <td>1.000000</td>\n",
       "      <td>1.00000</td>\n",
       "    </tr>\n",
       "  </tbody>\n",
       "</table>\n",
       "</div>"
      ],
      "text/plain": [
       "       Late show up percentage  Project initiative percentage  \\\n",
       "count              1000.000000                    1000.000000   \n",
       "mean                  0.501025                       0.483284   \n",
       "std                   0.187179                       0.184640   \n",
       "min                   0.000000                       0.000000   \n",
       "25%                   0.367040                       0.359586   \n",
       "50%                   0.495075                       0.486289   \n",
       "75%                   0.639074                       0.622330   \n",
       "max                   1.000000                       1.000000   \n",
       "\n",
       "       Percentage of project delivery on time  Percentage of emails exchanged  \\\n",
       "count                             1000.000000                     1000.000000   \n",
       "mean                                 0.427376                        0.400711   \n",
       "std                                  0.187881                        0.144444   \n",
       "min                                  0.000000                        0.000000   \n",
       "25%                                  0.286459                        0.295613   \n",
       "50%                                  0.413932                        0.397399   \n",
       "75%                                  0.552530                        0.496453   \n",
       "max                                  1.000000                        1.000000   \n",
       "\n",
       "       Percentage of responsiveness  \\\n",
       "count                   1000.000000   \n",
       "mean                       0.537204   \n",
       "std                        0.182367   \n",
       "min                        0.000000   \n",
       "25%                        0.416221   \n",
       "50%                        0.539818   \n",
       "75%                        0.661523   \n",
       "max                        1.000000   \n",
       "\n",
       "       Percentage of professional email response  Percentage of sharing ideas  \\\n",
       "count                                1000.000000                  1000.000000   \n",
       "mean                                    0.484969                     0.471185   \n",
       "std                                     0.182355                     0.179900   \n",
       "min                                     0.000000                     0.000000   \n",
       "25%                                     0.355052                     0.344950   \n",
       "50%                                     0.483522                     0.458429   \n",
       "75%                                     0.612790                     0.592071   \n",
       "max                                     1.000000                     1.000000   \n",
       "\n",
       "       Percentage of helping colleagues  \\\n",
       "count                       1000.000000   \n",
       "mean                           0.519861   \n",
       "std                            0.194477   \n",
       "min                            0.000000   \n",
       "25%                            0.381461   \n",
       "50%                            0.515514   \n",
       "75%                            0.661990   \n",
       "max                            1.000000   \n",
       "\n",
       "       Percentage of entrepreneurial posts on LinkedIn  \\\n",
       "count                                      1000.000000   \n",
       "mean                                          0.521589   \n",
       "std                                           0.193181   \n",
       "min                                           0.000000   \n",
       "25%                                           0.374331   \n",
       "50%                                           0.526394   \n",
       "75%                                           0.669513   \n",
       "max                                           1.000000   \n",
       "\n",
       "       Percentage of Facebook comments    Quitting  \n",
       "count                      1000.000000  1000.00000  \n",
       "mean                          0.576462     0.50000  \n",
       "std                           0.162826     0.50025  \n",
       "min                           0.000000     0.00000  \n",
       "25%                           0.464761     0.00000  \n",
       "50%                           0.586543     0.50000  \n",
       "75%                           0.689762     1.00000  \n",
       "max                           1.000000     1.00000  "
      ]
     },
     "execution_count": 3,
     "metadata": {},
     "output_type": "execute_result"
    }
   ],
   "source": [
    "df.describe()"
   ]
  },
  {
   "cell_type": "code",
   "execution_count": 4,
   "metadata": {},
   "outputs": [
    {
     "data": {
      "text/plain": [
       "Index(['Late show up percentage', 'Project initiative percentage',\n",
       "       'Percentage of project delivery on time',\n",
       "       'Percentage of emails exchanged', 'Percentage of responsiveness',\n",
       "       'Percentage of professional email response',\n",
       "       'Percentage of sharing ideas', 'Percentage of helping colleagues',\n",
       "       'Percentage of entrepreneurial posts on LinkedIn',\n",
       "       'Percentage of Facebook comments', 'Quitting'],\n",
       "      dtype='object')"
      ]
     },
     "execution_count": 4,
     "metadata": {},
     "output_type": "execute_result"
    }
   ],
   "source": [
    "df.columns"
   ]
  },
  {
   "cell_type": "code",
   "execution_count": 5,
   "metadata": {},
   "outputs": [
    {
     "data": {
      "text/plain": [
       "array([[-0.12354188,  0.18590747, -0.91343069, ..., -1.48236813,\n",
       "        -0.9497194 , -0.64331425],\n",
       "       [-1.08483602, -0.43034845, -1.02531333, ..., -0.20224031,\n",
       "        -1.82805088,  0.63675862],\n",
       "       [-0.78870217,  0.33931821,  0.30151137, ...,  0.28570652,\n",
       "        -0.68249379, -0.37784986],\n",
       "       ...,\n",
       "       [ 0.64177714, -0.51308341, -0.17920486, ..., -2.36249443,\n",
       "        -0.81426092,  0.11159651],\n",
       "       [ 0.46707241, -0.98278576, -1.46519359, ..., -0.03677699,\n",
       "         0.40602453, -0.85567   ],\n",
       "       [-0.38765353, -0.59589427, -1.4313981 , ..., -0.56778932,\n",
       "         0.3369971 ,  0.01034996]])"
      ]
     },
     "execution_count": 5,
     "metadata": {},
     "output_type": "execute_result"
    }
   ],
   "source": [
    "from sklearn.preprocessing import StandardScaler\n",
    "scaler = StandardScaler()\n",
    "scaler.fit(df.drop('Quitting',axis=1))\n",
    "x_standardized_features = scaler.transform(df.drop('Quitting',axis=1))\n",
    "x_standardized_features"
   ]
  },
  {
   "cell_type": "code",
   "execution_count": 6,
   "metadata": {},
   "outputs": [
    {
     "data": {
      "text/html": [
       "<div>\n",
       "<style scoped>\n",
       "    .dataframe tbody tr th:only-of-type {\n",
       "        vertical-align: middle;\n",
       "    }\n",
       "\n",
       "    .dataframe tbody tr th {\n",
       "        vertical-align: top;\n",
       "    }\n",
       "\n",
       "    .dataframe thead th {\n",
       "        text-align: right;\n",
       "    }\n",
       "</style>\n",
       "<table border=\"1\" class=\"dataframe\">\n",
       "  <thead>\n",
       "    <tr style=\"text-align: right;\">\n",
       "      <th></th>\n",
       "      <th>Late show up percentage</th>\n",
       "      <th>Project initiative percentage</th>\n",
       "      <th>Percentage of project delivery on time</th>\n",
       "      <th>Percentage of emails exchanged</th>\n",
       "      <th>Percentage of responsiveness</th>\n",
       "      <th>Percentage of professional email response</th>\n",
       "      <th>Percentage of sharing ideas</th>\n",
       "      <th>Percentage of helping colleagues</th>\n",
       "      <th>Percentage of entrepreneurial posts on LinkedIn</th>\n",
       "      <th>Percentage of Facebook comments</th>\n",
       "    </tr>\n",
       "  </thead>\n",
       "  <tbody>\n",
       "    <tr>\n",
       "      <th>0</th>\n",
       "      <td>-0.123542</td>\n",
       "      <td>0.185907</td>\n",
       "      <td>-0.913431</td>\n",
       "      <td>0.319629</td>\n",
       "      <td>-1.033637</td>\n",
       "      <td>-2.308375</td>\n",
       "      <td>-0.798951</td>\n",
       "      <td>-1.482368</td>\n",
       "      <td>-0.949719</td>\n",
       "      <td>-0.643314</td>\n",
       "    </tr>\n",
       "    <tr>\n",
       "      <th>1</th>\n",
       "      <td>-1.084836</td>\n",
       "      <td>-0.430348</td>\n",
       "      <td>-1.025313</td>\n",
       "      <td>0.625388</td>\n",
       "      <td>-0.444847</td>\n",
       "      <td>-1.152706</td>\n",
       "      <td>-1.129797</td>\n",
       "      <td>-0.202240</td>\n",
       "      <td>-1.828051</td>\n",
       "      <td>0.636759</td>\n",
       "    </tr>\n",
       "    <tr>\n",
       "      <th>2</th>\n",
       "      <td>-0.788702</td>\n",
       "      <td>0.339318</td>\n",
       "      <td>0.301511</td>\n",
       "      <td>0.755873</td>\n",
       "      <td>2.031693</td>\n",
       "      <td>-0.870156</td>\n",
       "      <td>2.599818</td>\n",
       "      <td>0.285707</td>\n",
       "      <td>-0.682494</td>\n",
       "      <td>-0.377850</td>\n",
       "    </tr>\n",
       "    <tr>\n",
       "      <th>3</th>\n",
       "      <td>0.982841</td>\n",
       "      <td>1.060193</td>\n",
       "      <td>-0.621399</td>\n",
       "      <td>0.625299</td>\n",
       "      <td>0.452820</td>\n",
       "      <td>-0.267220</td>\n",
       "      <td>1.750208</td>\n",
       "      <td>1.066491</td>\n",
       "      <td>1.241325</td>\n",
       "      <td>-1.026987</td>\n",
       "    </tr>\n",
       "    <tr>\n",
       "      <th>4</th>\n",
       "      <td>1.139275</td>\n",
       "      <td>-0.640392</td>\n",
       "      <td>-0.709819</td>\n",
       "      <td>-0.057175</td>\n",
       "      <td>0.822886</td>\n",
       "      <td>-0.936773</td>\n",
       "      <td>0.596782</td>\n",
       "      <td>-1.472352</td>\n",
       "      <td>1.040772</td>\n",
       "      <td>0.276510</td>\n",
       "    </tr>\n",
       "  </tbody>\n",
       "</table>\n",
       "</div>"
      ],
      "text/plain": [
       "   Late show up percentage  Project initiative percentage  \\\n",
       "0                -0.123542                       0.185907   \n",
       "1                -1.084836                      -0.430348   \n",
       "2                -0.788702                       0.339318   \n",
       "3                 0.982841                       1.060193   \n",
       "4                 1.139275                      -0.640392   \n",
       "\n",
       "   Percentage of project delivery on time  Percentage of emails exchanged  \\\n",
       "0                               -0.913431                        0.319629   \n",
       "1                               -1.025313                        0.625388   \n",
       "2                                0.301511                        0.755873   \n",
       "3                               -0.621399                        0.625299   \n",
       "4                               -0.709819                       -0.057175   \n",
       "\n",
       "   Percentage of responsiveness  Percentage of professional email response  \\\n",
       "0                     -1.033637                                  -2.308375   \n",
       "1                     -0.444847                                  -1.152706   \n",
       "2                      2.031693                                  -0.870156   \n",
       "3                      0.452820                                  -0.267220   \n",
       "4                      0.822886                                  -0.936773   \n",
       "\n",
       "   Percentage of sharing ideas  Percentage of helping colleagues  \\\n",
       "0                    -0.798951                         -1.482368   \n",
       "1                    -1.129797                         -0.202240   \n",
       "2                     2.599818                          0.285707   \n",
       "3                     1.750208                          1.066491   \n",
       "4                     0.596782                         -1.472352   \n",
       "\n",
       "   Percentage of entrepreneurial posts on LinkedIn  \\\n",
       "0                                        -0.949719   \n",
       "1                                        -1.828051   \n",
       "2                                        -0.682494   \n",
       "3                                         1.241325   \n",
       "4                                         1.040772   \n",
       "\n",
       "   Percentage of Facebook comments  \n",
       "0                        -0.643314  \n",
       "1                         0.636759  \n",
       "2                        -0.377850  \n",
       "3                        -1.026987  \n",
       "4                         0.276510  "
      ]
     },
     "execution_count": 6,
     "metadata": {},
     "output_type": "execute_result"
    }
   ],
   "source": [
    "x_standardized_features = pd.DataFrame(x_standardized_features,columns=df.columns[:-1])\n",
    "x_standardized_features.head()"
   ]
  },
  {
   "cell_type": "code",
   "execution_count": 7,
   "metadata": {},
   "outputs": [
    {
     "data": {
      "text/plain": [
       "0      1\n",
       "1      0\n",
       "2      0\n",
       "3      1\n",
       "4      1\n",
       "      ..\n",
       "995    1\n",
       "996    0\n",
       "997    1\n",
       "998    1\n",
       "999    1\n",
       "Name: Quitting, Length: 1000, dtype: int64"
      ]
     },
     "execution_count": 7,
     "metadata": {},
     "output_type": "execute_result"
    }
   ],
   "source": [
    "y=df['Quitting']\n",
    "y"
   ]
  },
  {
   "cell_type": "code",
   "execution_count": 8,
   "metadata": {},
   "outputs": [],
   "source": [
    "from sklearn.model_selection import train_test_split"
   ]
  },
  {
   "cell_type": "markdown",
   "metadata": {},
   "source": [
    "# Cross validation"
   ]
  },
  {
   "cell_type": "code",
   "execution_count": 9,
   "metadata": {},
   "outputs": [],
   "source": [
    "seed= 1000\n",
    "np.random.seed(seed)\n",
    "X_train, X_test, y_train, y_test = train_test_split(x_standardized_features,y, test_size=0.30)"
   ]
  },
  {
   "cell_type": "code",
   "execution_count": 10,
   "metadata": {},
   "outputs": [
    {
     "data": {
      "text/plain": [
       "700"
      ]
     },
     "execution_count": 10,
     "metadata": {},
     "output_type": "execute_result"
    }
   ],
   "source": [
    "len(X_train)"
   ]
  },
  {
   "cell_type": "markdown",
   "metadata": {},
   "source": [
    "# Applying KNN model"
   ]
  },
  {
   "cell_type": "code",
   "execution_count": 11,
   "metadata": {},
   "outputs": [],
   "source": [
    "from sklearn.neighbors import KNeighborsClassifier"
   ]
  },
  {
   "cell_type": "code",
   "execution_count": 12,
   "metadata": {},
   "outputs": [],
   "source": [
    "np.random.seed(seed)\n",
    "KNN = KNeighborsClassifier(n_neighbors=1, metric='euclidean')"
   ]
  },
  {
   "cell_type": "code",
   "execution_count": 13,
   "metadata": {},
   "outputs": [
    {
     "data": {
      "text/plain": [
       "KNeighborsClassifier(algorithm='auto', leaf_size=30, metric='euclidean',\n",
       "                     metric_params=None, n_jobs=None, n_neighbors=1, p=2,\n",
       "                     weights='uniform')"
      ]
     },
     "execution_count": 13,
     "metadata": {},
     "output_type": "execute_result"
    }
   ],
   "source": [
    "KNN.fit(X_train,y_train)"
   ]
  },
  {
   "cell_type": "code",
   "execution_count": 14,
   "metadata": {},
   "outputs": [],
   "source": [
    "pred = KNN.predict(X_test)"
   ]
  },
  {
   "cell_type": "markdown",
   "metadata": {},
   "source": [
    "# Prediction and evaluation"
   ]
  },
  {
   "cell_type": "code",
   "execution_count": 15,
   "metadata": {},
   "outputs": [],
   "source": [
    "from sklearn.metrics import classification_report,confusion_matrix"
   ]
  },
  {
   "cell_type": "code",
   "execution_count": 16,
   "metadata": {},
   "outputs": [
    {
     "name": "stdout",
     "output_type": "stream",
     "text": [
      "[[137  14]\n",
      " [ 11 138]]\n"
     ]
    }
   ],
   "source": [
    "print(confusion_matrix(y_test,pred))"
   ]
  },
  {
   "cell_type": "code",
   "execution_count": 17,
   "metadata": {},
   "outputs": [
    {
     "name": "stdout",
     "output_type": "stream",
     "text": [
      "              precision    recall  f1-score   support\n",
      "\n",
      "           0       0.93      0.91      0.92       151\n",
      "           1       0.91      0.93      0.92       149\n",
      "\n",
      "    accuracy                           0.92       300\n",
      "   macro avg       0.92      0.92      0.92       300\n",
      "weighted avg       0.92      0.92      0.92       300\n",
      "\n"
     ]
    }
   ],
   "source": [
    "print(classification_report(y_test,pred))"
   ]
  },
  {
   "cell_type": "markdown",
   "metadata": {},
   "source": [
    "# Choosing K"
   ]
  },
  {
   "cell_type": "code",
   "execution_count": 18,
   "metadata": {},
   "outputs": [],
   "source": [
    "error_rate = []\n",
    "\n",
    "for i in range(1,50):\n",
    "    \n",
    "    KNN = KNeighborsClassifier(n_neighbors=i,metric='euclidean')\n",
    "    KNN.fit(X_train,y_train)\n",
    "    pred_i = KNN.predict(X_test)\n",
    "    error_rate.append(np.mean(pred_i != y_test))"
   ]
  },
  {
   "cell_type": "code",
   "execution_count": 19,
   "metadata": {},
   "outputs": [
    {
     "data": {
      "text/plain": [
       "Text(0, 0.5, 'Error Rate')"
      ]
     },
     "execution_count": 19,
     "metadata": {},
     "output_type": "execute_result"
    },
    {
     "data": {
      "image/png": "[encoded data removed]",
      "text/plain": [
       "<Figure size 720x432 with 1 Axes>"
      ]
     },
     "metadata": {
      "needs_background": "light"
     },
     "output_type": "display_data"
    }
   ],
   "source": [
    "plt.figure(figsize=(10,6))\n",
    "plt.plot(range(1,50),error_rate,color='blue', linestyle='dashed', marker='o',\n",
    "         markerfacecolor='red', markersize=10)\n",
    "plt.title('Error Rate vs. K Value')\n",
    "plt.xlabel('K')\n",
    "plt.ylabel('Error Rate')"
   ]
  },
  {
   "cell_type": "code",
   "execution_count": 20,
   "metadata": {},
   "outputs": [
    {
     "name": "stdout",
     "output_type": "stream",
     "text": [
      "WITH K=1\n",
      "\n",
      "\n",
      "[[137  14]\n",
      " [ 11 138]]\n",
      "\n",
      "\n",
      "              precision    recall  f1-score   support\n",
      "\n",
      "           0       0.93      0.91      0.92       151\n",
      "           1       0.91      0.93      0.92       149\n",
      "\n",
      "    accuracy                           0.92       300\n",
      "   macro avg       0.92      0.92      0.92       300\n",
      "weighted avg       0.92      0.92      0.92       300\n",
      "\n"
     ]
    }
   ],
   "source": [
    "KNN = KNeighborsClassifier(n_neighbors=1,metric='euclidean')\n",
    "\n",
    "KNN.fit(X_train,y_train)\n",
    "pred = KNN.predict(X_test)\n",
    "\n",
    "print('WITH K=1')\n",
    "print('\\n')\n",
    "print(confusion_matrix(y_test,pred))\n",
    "print('\\n')\n",
    "print(classification_report(y_test,pred))"
   ]
  },
  {
   "cell_type": "code",
   "execution_count": 21,
   "metadata": {},
   "outputs": [
    {
     "name": "stdout",
     "output_type": "stream",
     "text": [
      "\n",
      "\n",
      "[[142   9]\n",
      " [ 10 139]]\n",
      "\n",
      "\n",
      "              precision    recall  f1-score   support\n",
      "\n",
      "           0       0.93      0.94      0.94       151\n",
      "           1       0.94      0.93      0.94       149\n",
      "\n",
      "    accuracy                           0.94       300\n",
      "   macro avg       0.94      0.94      0.94       300\n",
      "weighted avg       0.94      0.94      0.94       300\n",
      "\n"
     ]
    }
   ],
   "source": [
    "from sklearn.metrics import classification_report,confusion_matrix\n",
    "np.random.seed(seed)\n",
    "KNN = KNeighborsClassifier(n_neighbors=5,metric='euclidean')\n",
    "\n",
    "KNN.fit(X_train,y_train)\n",
    "y_pred = KNN.predict(X_test)\n",
    "\n",
    "print('\\n')\n",
    "print(confusion_matrix(y_test,y_pred))\n",
    "print('\\n')\n",
    "print(classification_report(y_test,y_pred))"
   ]
  },
  {
   "cell_type": "code",
   "execution_count": 22,
   "metadata": {},
   "outputs": [],
   "source": [
    "from sklearn import metrics"
   ]
  },
  {
   "cell_type": "code",
   "execution_count": 23,
   "metadata": {},
   "outputs": [
    {
     "data": {
      "text/plain": [
       "[0.9166666666666666,\n",
       " 0.9266666666666666,\n",
       " 0.9233333333333333,\n",
       " 0.9366666666666666,\n",
       " 0.9366666666666666,\n",
       " 0.9366666666666666,\n",
       " 0.93,\n",
       " 0.9333333333333333,\n",
       " 0.92,\n",
       " 0.9266666666666666,\n",
       " 0.92,\n",
       " 0.93,\n",
       " 0.9333333333333333,\n",
       " 0.9366666666666666,\n",
       " 0.9366666666666666,\n",
       " 0.9366666666666666,\n",
       " 0.9366666666666666,\n",
       " 0.9366666666666666,\n",
       " 0.9333333333333333,\n",
       " 0.9333333333333333,\n",
       " 0.9366666666666666,\n",
       " 0.9366666666666666,\n",
       " 0.9366666666666666,\n",
       " 0.9366666666666666,\n",
       " 0.9333333333333333,\n",
       " 0.93,\n",
       " 0.9333333333333333,\n",
       " 0.9333333333333333,\n",
       " 0.93,\n",
       " 0.9333333333333333,\n",
       " 0.9333333333333333,\n",
       " 0.9366666666666666,\n",
       " 0.93,\n",
       " 0.9333333333333333,\n",
       " 0.9333333333333333,\n",
       " 0.9366666666666666,\n",
       " 0.9333333333333333,\n",
       " 0.9366666666666666,\n",
       " 0.9333333333333333,\n",
       " 0.9333333333333333,\n",
       " 0.9333333333333333,\n",
       " 0.9333333333333333,\n",
       " 0.9333333333333333,\n",
       " 0.9333333333333333,\n",
       " 0.9333333333333333,\n",
       " 0.9366666666666666,\n",
       " 0.9333333333333333,\n",
       " 0.9366666666666666,\n",
       " 0.93,\n",
       " 0.9333333333333333]"
      ]
     },
     "execution_count": 23,
     "metadata": {},
     "output_type": "execute_result"
    }
   ],
   "source": [
    "Scores = []\n",
    "\n",
    "for k in range(1, 51):\n",
    "    KNN = KNeighborsClassifier(n_neighbors=k,metric='euclidean')\n",
    "    KNN.fit(X_train, y_train)\n",
    "    y_pred = KNN.predict(X_test)\n",
    "    Scores.append(metrics.accuracy_score(y_test, y_pred))\n",
    "Scores"
   ]
  },
  {
   "cell_type": "code",
   "execution_count": 24,
   "metadata": {},
   "outputs": [
    {
     "data": {
      "text/plain": [
       "Text(0.5, 1.0, 'K Determination Using KNN')"
      ]
     },
     "execution_count": 24,
     "metadata": {},
     "output_type": "execute_result"
    },
    {
     "data": {
      "image/png": "[encoded data removed]",
      "text/plain": [
       "<Figure size 720x576 with 1 Axes>"
      ]
     },
     "metadata": {
      "needs_background": "light"
     },
     "output_type": "display_data"
    }
   ],
   "source": [
    "plt.figure(figsize=(10,8))\n",
    "plt.plot(range(1, 51), Scores)\n",
    "plt.xlabel('K Values')\n",
    "plt.ylabel('Testing Accuracy')\n",
    "plt.title('K Determination Using KNN', fontsize=20)"
   ]
  },
  {
   "cell_type": "code",
   "execution_count": null,
   "metadata": {},
   "outputs": [],
   "source": []
  }
 ],
 "metadata": {
  "kernelspec": {
   "display_name": "Python 3",
   "language": "python",
   "name": "python3"
  },
  "language_info": {
   "codemirror_mode": {
    "name": "ipython",
    "version": 3
   },
   "file_extension": ".py",
   "mimetype": "text/x-python",
   "name": "python",
   "nbconvert_exporter": "python",
   "pygments_lexer": "ipython3",
   "version": "3.7.6"
  }
 },
 "nbformat": 4,
 "nbformat_minor": 4
}
